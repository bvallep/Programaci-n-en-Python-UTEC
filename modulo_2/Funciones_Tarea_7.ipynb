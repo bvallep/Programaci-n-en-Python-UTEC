{
  "nbformat": 4,
  "nbformat_minor": 0,
  "metadata": {
    "colab": {
      "name": "modulo 2.ipynb",
      "provenance": [],
      "include_colab_link": true
    },
    "kernelspec": {
      "name": "python3",
      "display_name": "Python 3"
    },
    "language_info": {
      "name": "python"
    }
  },
  "cells": [
    {
      "cell_type": "markdown",
      "metadata": {
        "id": "view-in-github",
        "colab_type": "text"
      },
      "source": [
        "<a href=\"https://colab.research.google.com/github/bvallep/Programacion-en-Python-UTEC/blob/main/modulo_2/Funciones_Tarea_7.ipynb\" target=\"_parent\"><img src=\"https://colab.research.google.com/assets/colab-badge.svg\" alt=\"Open In Colab\"/></a>"
      ]
    },
    {
      "cell_type": "markdown",
      "source": [
        "<img src=\"https://www.ctic.uni.edu.pe/wp-content/uploads/2022/04/588px-x-348px-web-1.png\" alt=\"HTML5 Icon\" width=\"900\" height=\"350\" >\n"
      ],
      "metadata": {
        "id": "qCg1zV0_DK0j"
      }
    },
    {
      "cell_type": "markdown",
      "source": [
        "\n",
        "Desarrolle una función que almacene en un diccionario el nombre de un estudiante\n",
        "y sus notas en los cursos de programación, estadística y física. El resultado de\n",
        "la función deberá ser el retorno de un diccionario con dichos valores. Ahora prepare\n",
        "la función para que pueda almacenar la edad del estudiante y su universidad, la función no debe\n",
        "esperar necesariamente estos valores pero si debe almacenarlos si es que se declaran**\n",
        "\n"
      ],
      "metadata": {
        "id": "6tl7VZUNy1Yr"
      }
    },
    {
      "cell_type": "code",
      "source": [
        "#Ejercicio 1\n",
        "\n",
        "def input_info():\n",
        "  name = input('Favor de ingresa el nombre del estudiante: ')\n",
        "  edad = input('Favor de ingresar la edad del estudiante: ')\n",
        "  uni = input('Favor de ingresar el nombre de la universidad: ')\n",
        "  nota1 = input('Ingresar las notas del curso de programacion: ')\n",
        "  nota2 = input('Ingresar las notas del curso de estadistica: ')\n",
        "  nota3 = input('Ingresar las notas del curso de fisica: ')\n",
        "  return name,edad,uni,nota1,nota2,nota3\n",
        "\n",
        "def insert_info(name,nota1,nota2,nota3,edad = None ,uni= None):\n",
        "    insert_estu = {'Nombre': name,\n",
        "                   'Programación': nota1,\n",
        "                   'Estadística': nota2,\n",
        "                   'Física': nota3}\n",
        "\n",
        "    if edad is not None:\n",
        "      insert_estu['Edad'] = edad\n",
        "    if uni is not None:\n",
        "      insert_estu['Universidad'] = uni\n",
        "    return insert_estu\n",
        "\n",
        "name,edad,uni,nota1,nota2,nota3 = input_info()\n",
        "insert_info(name,nota1,nota2,nota3,edad,uni)\n"
      ],
      "metadata": {
        "id": "xFe_fHtsApoC",
        "outputId": "77c52e35-ea8c-4310-925d-e96160958cd0",
        "colab": {
          "base_uri": "https://localhost:8080/"
        }
      },
      "execution_count": 34,
      "outputs": [
        {
          "name": "stdout",
          "output_type": "stream",
          "text": [
            "Favor de ingresa el nombre del estudiante: bryan\n",
            "Favor de ingresar la edad del estudiante: \n",
            "Favor de ingresar el nombre de la universidad: \n",
            "Ingresar las notas del curso de programacion: 15\n",
            "Ingresar las notas del curso de estadistica: 12\n",
            "Ingresar las notas del curso de fisica: 10\n"
          ]
        },
        {
          "output_type": "execute_result",
          "data": {
            "text/plain": [
              "{'Nombre': 'bryan',\n",
              " 'Programación': '15',\n",
              " 'Estadística': '12',\n",
              " 'Física': '10',\n",
              " 'Edad': '',\n",
              " 'Universidad': ''}"
            ]
          },
          "metadata": {},
          "execution_count": 34
        }
      ]
    },
    {
      "cell_type": "code",
      "source": [],
      "metadata": {
        "id": "82hvwXQs0ZRk",
        "outputId": "b00c7717-3e39-4697-d2e6-456409ec614e",
        "colab": {
          "base_uri": "https://localhost:8080/",
          "height": 147
        }
      },
      "execution_count": 17,
      "outputs": [
        {
          "output_type": "error",
          "ename": "NameError",
          "evalue": "name 'insert_estu' is not defined",
          "traceback": [
            "\u001b[0;31m---------------------------------------------------------------------------\u001b[0m",
            "\u001b[0;31mNameError\u001b[0m                                 Traceback (most recent call last)",
            "\u001b[0;32m<ipython-input-17-a5903eb11506>\u001b[0m in \u001b[0;36m<cell line: 1>\u001b[0;34m()\u001b[0m\n\u001b[0;32m----> 1\u001b[0;31m \u001b[0mprint\u001b[0m\u001b[0;34m(\u001b[0m\u001b[0minsert_estu\u001b[0m\u001b[0;34m)\u001b[0m\u001b[0;34m\u001b[0m\u001b[0;34m\u001b[0m\u001b[0m\n\u001b[0m",
            "\u001b[0;31mNameError\u001b[0m: name 'insert_estu' is not defined"
          ]
        }
      ]
    },
    {
      "cell_type": "code",
      "source": [],
      "metadata": {
        "id": "BbAb0vFCyhmc"
      },
      "execution_count": null,
      "outputs": []
    },
    {
      "cell_type": "code",
      "source": [
        "print(\"Hello Python interpreter!\")"
      ],
      "metadata": {
        "id": "_GUyponPAi_Z"
      },
      "execution_count": null,
      "outputs": []
    }
  ]
}