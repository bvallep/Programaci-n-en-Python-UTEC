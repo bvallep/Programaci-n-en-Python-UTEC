{
  "nbformat": 4,
  "nbformat_minor": 0,
  "metadata": {
    "colab": {
      "name": "modulo 2.ipynb",
      "provenance": [],
      "include_colab_link": true
    },
    "kernelspec": {
      "name": "python3",
      "display_name": "Python 3"
    },
    "language_info": {
      "name": "python"
    }
  },
  "cells": [
    {
      "cell_type": "markdown",
      "metadata": {
        "id": "view-in-github",
        "colab_type": "text"
      },
      "source": [
        "<a href=\"https://colab.research.google.com/github/bvallep/Programacion-en-Python-UTEC/blob/main/modulo_2/Funciones_Tarea_7.ipynb\" target=\"_parent\"><img src=\"https://colab.research.google.com/assets/colab-badge.svg\" alt=\"Open In Colab\"/></a>"
      ]
    },
    {
      "cell_type": "markdown",
      "source": [
        "<img src=\"https://www.ctic.uni.edu.pe/wp-content/uploads/2022/04/588px-x-348px-web-1.png\" alt=\"HTML5 Icon\" width=\"900\" height=\"350\" >\n"
      ],
      "metadata": {
        "id": "qCg1zV0_DK0j"
      }
    },
    {
      "cell_type": "markdown",
      "source": [
        "\n",
        "Desarrolle una función que almacene en un diccionario el nombre de un estudiante\n",
        "y sus notas en los cursos de programación, estadística y física. El resultado de\n",
        "la función deberá ser el retorno de un diccionario con dichos valores. Ahora prepare\n",
        "la función para que pueda almacenar la edad del estudiante y su universidad, la función no debe\n",
        "esperar necesariamente estos valores pero si debe almacenarlos si es que se declaran**\n",
        "\n"
      ],
      "metadata": {
        "id": "6tl7VZUNy1Yr"
      }
    },
    {
      "cell_type": "code",
      "source": [
        "#Ejercicio 1\n",
        "\n",
        "def input_info():\n",
        "  \"\"\"Esta función solicita al usuario que ingrese información sobre un estudiante, incluido su nombre, edad, universidad\n",
        "  y notas en tres cursos. Devuelve esta información en forma de un diccionario.\n",
        "  Returns:\n",
        "  diccionario: Una tupla que contiene el nombre del estudiante (str), su edad (str), el nombre de la universidad (str),\n",
        "  y las notas en los cursos de programación (str), estadística (str) y física (str).\"\"\"\n",
        "\n",
        "  name = input('Favor de ingresa el nombre del estudiante: ')\n",
        "  edad = input('Favor de ingresar la edad del estudiante: ')\n",
        "  uni = input('Favor de ingresar el nombre de la universidad: ')\n",
        "  nota1 = input('Ingresar las notas del curso de programacion: ')\n",
        "  nota2 = input('Ingresar las notas del curso de estadistica: ')\n",
        "  nota3 = input('Ingresar las notas del curso de fisica: ')\n",
        "  return name,edad,uni,nota1,nota2,nota3\n",
        "\n",
        "def insert_info(name,nota1,nota2,nota3,edad = None ,uni= None):\n",
        "    \"\"\"\n",
        "    Esta función crea un diccionario que contiene la información de un estudiante, incluido su nombre, notas en tres\n",
        "    cursos, edad y universidad. Los parámetros opcionales son la edad y la universidad.\n",
        "    Args:\n",
        "        name (str): El nombre del estudiante.\n",
        "        nota1 (str): La nota en el curso de programación.\n",
        "        nota2 (str): La nota en el curso de estadística.\n",
        "        nota3 (str): La nota en el curso de física.\n",
        "        edad (str, opcional): La edad del estudiante.\n",
        "        uni (str, opcional): El nombre de la universidad del estudiante.\n",
        "    Returns:\n",
        "        dict: Un diccionario que contiene la información del estudiante, con claves para el nombre, las notas en los\n",
        "        cursos y, opcionalmente, la edad y la universidad.\n",
        "    \"\"\"\n",
        "    insert_estu = {'Nombre': name,\n",
        "                   'Programación': nota1,\n",
        "                   'Estadística': nota2,\n",
        "                   'Física': nota3}\n",
        "\n",
        "    if edad is not None:\n",
        "      insert_estu['Edad'] = edad\n",
        "    if uni is not None:\n",
        "      insert_estu['Universidad'] = uni\n",
        "    return insert_estu\n",
        "\n",
        "name,edad,uni,nota1,nota2,nota3 = input_info()\n",
        "insert_info(name,nota1,nota2,nota3,edad,uni)\n"
      ],
      "metadata": {
        "id": "xFe_fHtsApoC",
        "colab": {
          "base_uri": "https://localhost:8080/"
        },
        "outputId": "301a161d-5b14-4a49-9277-c92dcff067a7"
      },
      "execution_count": 36,
      "outputs": [
        {
          "name": "stdout",
          "output_type": "stream",
          "text": [
            "Favor de ingresa el nombre del estudiante: bryan\n",
            "Favor de ingresar la edad del estudiante: \n",
            "Favor de ingresar el nombre de la universidad: UCV\n",
            "Ingresar las notas del curso de programacion: 15\n",
            "Ingresar las notas del curso de estadistica: 12\n",
            "Ingresar las notas del curso de fisica: 9\n"
          ]
        },
        {
          "output_type": "execute_result",
          "data": {
            "text/plain": [
              "{'Nombre': 'bryan',\n",
              " 'Programación': '15',\n",
              " 'Estadística': '12',\n",
              " 'Física': '9',\n",
              " 'Edad': '',\n",
              " 'Universidad': 'UCV'}"
            ]
          },
          "metadata": {},
          "execution_count": 36
        }
      ]
    },
    {
      "cell_type": "code",
      "source": [],
      "metadata": {
        "colab": {
          "base_uri": "https://localhost:8080/",
          "height": 147
        },
        "id": "82hvwXQs0ZRk",
        "outputId": "b00c7717-3e39-4697-d2e6-456409ec614e"
      },
      "execution_count": 17,
      "outputs": [
        {
          "output_type": "error",
          "ename": "NameError",
          "evalue": "name 'insert_estu' is not defined",
          "traceback": [
            "\u001b[0;31m---------------------------------------------------------------------------\u001b[0m",
            "\u001b[0;31mNameError\u001b[0m                                 Traceback (most recent call last)",
            "\u001b[0;32m<ipython-input-17-a5903eb11506>\u001b[0m in \u001b[0;36m<cell line: 1>\u001b[0;34m()\u001b[0m\n\u001b[0;32m----> 1\u001b[0;31m \u001b[0mprint\u001b[0m\u001b[0;34m(\u001b[0m\u001b[0minsert_estu\u001b[0m\u001b[0;34m)\u001b[0m\u001b[0;34m\u001b[0m\u001b[0;34m\u001b[0m\u001b[0m\n\u001b[0m",
            "\u001b[0;31mNameError\u001b[0m: name 'insert_estu' is not defined"
          ]
        }
      ]
    },
    {
      "cell_type": "code",
      "source": [],
      "metadata": {
        "id": "BbAb0vFCyhmc"
      },
      "execution_count": null,
      "outputs": []
    },
    {
      "cell_type": "code",
      "source": [
        "print(\"Hello Python interpreter!\")"
      ],
      "metadata": {
        "id": "_GUyponPAi_Z"
      },
      "execution_count": null,
      "outputs": []
    }
  ]
}