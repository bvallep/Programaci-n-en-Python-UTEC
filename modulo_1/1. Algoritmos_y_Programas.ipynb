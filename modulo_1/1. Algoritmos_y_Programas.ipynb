{
  "nbformat": 4,
  "nbformat_minor": 0,
  "metadata": {
    "colab": {
      "provenance": [],
      "include_colab_link": true
    },
    "kernelspec": {
      "name": "python3",
      "display_name": "Python 3"
    },
    "language_info": {
      "name": "python"
    }
  },
  "cells": [
    {
      "cell_type": "markdown",
      "metadata": {
        "id": "view-in-github",
        "colab_type": "text"
      },
      "source": [
        "<a href=\"https://colab.research.google.com/github/bvallep/Programacion-en-Python-UTEC/blob/main/modulo_1/1.%20Algoritmos_y_Programas.ipynb\" target=\"_parent\"><img src=\"https://colab.research.google.com/assets/colab-badge.svg\" alt=\"Open In Colab\"/></a>"
      ]
    },
    {
      "cell_type": "markdown",
      "source": [
        "<img src=\"https://www.ctic.uni.edu.pe/wp-content/uploads/2022/04/588px-x-348px-web-1.png\" alt=\"HTML5 Icon\" width=\"900\" height=\"350\" >"
      ],
      "metadata": {
        "id": "XWp-1a3HCQoh"
      }
    },
    {
      "cell_type": "markdown",
      "source": [
        "<h1 align=center><font size = 5> Algoritmos y programas\n",
        "</font></h1>\n",
        "\n",
        "---"
      ],
      "metadata": {
        "id": "6bpRTn-4CTwV"
      }
    },
    {
      "cell_type": "markdown",
      "source": [
        "## Objetivo\n",
        "\n",
        "Al final del laboratorio, los estudiantes deberían ser capaces de comprender y aplicar las operaciones básicas de Python en la solución de problemas, entender cómo se pueden usar estos conceptos en aplicaciones prácticas y cotidianas, y sentirse motivados para explorar más sobre la programación y su potencial para facilitar y optimizar tareas y decisiones.\n"
      ],
      "metadata": {
        "id": "yYAqVvD3RHbf"
      }
    },
    {
      "cell_type": "markdown",
      "source": [
        "#Ejercicio 1:"
      ],
      "metadata": {
        "id": "aRzqyeNfCcPm"
      }
    },
    {
      "cell_type": "markdown",
      "source": [
        "\n",
        "\n",
        "**Sumar Dos Números**\n",
        "\n",
        "Algoritmo:\n",
        "\n",
        "* Obtener dos números.\n",
        "* Sumar los dos números.\n",
        "* Mostrar el resultado."
      ],
      "metadata": {
        "id": "x0CFZxg1_uFy"
      }
    },
    {
      "cell_type": "markdown",
      "source": [
        "\n",
        "**Pseudo-código:**"
      ],
      "metadata": {
        "id": "ktErA-x2ABlB"
      }
    },
    {
      "cell_type": "code",
      "execution_count": null,
      "metadata": {
        "id": "KO4KO9rA_XIT"
      },
      "outputs": [],
      "source": [
        "\"\"\"\n",
        "Inicio\n",
        "    Leer primerNumero\n",
        "    Leer segundoNumero\n",
        "    resultado = primerNumero + segundoNumero\n",
        "    Escribir resultado\n",
        "Fin\n",
        "\"\"\""
      ]
    },
    {
      "cell_type": "markdown",
      "source": [
        "**Código:**"
      ],
      "metadata": {
        "id": "X3ydvX4kAu7h"
      }
    },
    {
      "cell_type": "code",
      "source": [
        "#Asignar un valor a un objeto\n",
        "\n",
        "PriNum = input(\"Por favor, introduce el primer numero a sumar: \")\n",
        "SegNum = input(\"Por favor, introduce el segundo numero a sumar \")\n",
        "\n",
        "#Casteo y suma de los dos numeros\n",
        "Sum= int(PriNum) + int(SegNum)\n",
        "\n",
        "print(\"La suma de los numeros es \" + str(Sum))\n"
      ],
      "metadata": {
        "id": "CXRsWWOaCjcl",
        "colab": {
          "base_uri": "https://localhost:8080/"
        },
        "outputId": "b1d7c2b9-4093-4410-99ba-8407844c308c"
      },
      "execution_count": 10,
      "outputs": [
        {
          "output_type": "stream",
          "name": "stdout",
          "text": [
            "Por favor, introduce el primer numero a sumar: 9259828959\n",
            "Por favor, introduce el segundo numero a sumar 959859589\n",
            "La suma de los numeros es 10219688548\n"
          ]
        }
      ]
    },
    {
      "cell_type": "markdown",
      "source": [
        "#Ejercicio 2:"
      ],
      "metadata": {
        "id": "vRz5f9r9Cj24"
      }
    },
    {
      "cell_type": "markdown",
      "source": [
        "**Convertir Grados Celsius a Fahrenheit**\n",
        "\n",
        "Algoritmo:\n",
        "\n",
        "* Obtener la temperatura en grados Celsius.\n",
        "* Convertir la temperatura a Fahrenheit usando la fórmula:\n",
        "\n",
        "<img src=\"https://media.geeksforgeeks.org/wp-content/uploads/20220817110636/FtoCformula3.jpg\" alt=\"HTML5 Icon\" width=\"300\" height=\"100\" >\n",
        "\n",
        "* Mostrar la temperatura en Fahrenheit."
      ],
      "metadata": {
        "id": "nye6e5D9Db-C"
      }
    },
    {
      "cell_type": "markdown",
      "source": [
        "**Pseudo-código:**"
      ],
      "metadata": {
        "id": "demRL1imEPst"
      }
    },
    {
      "cell_type": "code",
      "source": [
        "\"\"\"\n",
        "Inicio\n",
        "    Leer el Grado Celsius\n",
        "    realizar la formula de conversion\n",
        "    Escribir resultado\n",
        "Fin\n",
        "\"\"\""
      ],
      "metadata": {
        "id": "0P6hICjcEUAx"
      },
      "execution_count": null,
      "outputs": []
    },
    {
      "cell_type": "markdown",
      "source": [
        "**Código:**"
      ],
      "metadata": {
        "id": "bXa53UH-ESOI"
      }
    },
    {
      "cell_type": "code",
      "source": [
        "#Asignar un valor a un objeto\n",
        "\n",
        "TempCel = int(input(\"Por favor, introduce la temperatura en grados Celsius: \"))\n",
        "\n",
        "#Formula de conversion\n",
        "TempFa = TempCel * 9/5 + 32\n",
        "\n",
        "print(\"La stemperatura en Fahrenheit es \" + str(TempFa))\n"
      ],
      "metadata": {
        "id": "q2NlbgyLEUTv",
        "colab": {
          "base_uri": "https://localhost:8080/"
        },
        "outputId": "be15945e-72ac-4098-fab3-3526481ebf0e"
      },
      "execution_count": 15,
      "outputs": [
        {
          "output_type": "stream",
          "name": "stdout",
          "text": [
            "Por favor, introduce la temperatura en grados Celsius: 30\n",
            "La stemperatura en Fahrenheit es 86.0\n"
          ]
        }
      ]
    },
    {
      "cell_type": "markdown",
      "source": [
        "#Ejercicio 3:"
      ],
      "metadata": {
        "id": "k8rphMT_DBuN"
      }
    },
    {
      "cell_type": "markdown",
      "source": [
        "**Calcular el Área de un Rectángulo**\n",
        "\n",
        "Algoritmo:\n",
        "\n",
        "* Obtener la longitud del rectángulo.\n",
        "* Obtener el ancho del rectángulo.\n",
        "* Calcular el área multiplicando la longitud por el ancho.\n",
        "* Mostrar el área."
      ],
      "metadata": {
        "id": "DJ2Y_9SEExIO"
      }
    },
    {
      "cell_type": "markdown",
      "source": [
        "**Pseudo-código:**"
      ],
      "metadata": {
        "id": "Xe3lT7n0FIWM"
      }
    },
    {
      "cell_type": "code",
      "source": [
        "\"\"\"\n",
        "Inicio\n",
        "    Leer la longitud del rectangulo\n",
        "    Leer el ancho del rectangulo\n",
        "    realizar la formula del area del rectangulo\n",
        "    Escribir resultado\n",
        "Fin\n",
        "\"\"\""
      ],
      "metadata": {
        "id": "UyRf86xIFIWY"
      },
      "execution_count": null,
      "outputs": []
    },
    {
      "cell_type": "markdown",
      "source": [
        "**Código:**"
      ],
      "metadata": {
        "id": "-PppYyO4FIWY"
      }
    },
    {
      "cell_type": "code",
      "source": [
        "#Asignar un valor a un objeto\n",
        "\n",
        "Long = int(input(\"Por favor, introduce la longitud del rectangulo: \"))\n",
        "Anch = int(input(\"Por favor, introduce el ancho del rectangulo: \"))\n",
        "\n",
        "#Formula de conversion\n",
        "Area = Long * Anch\n",
        "\n",
        "print(\"El area del rectangulo es \" + str(Area))"
      ],
      "metadata": {
        "id": "IJvYMur8FIWY",
        "colab": {
          "base_uri": "https://localhost:8080/"
        },
        "outputId": "504d1b00-d99c-42ac-b93a-3791b90f81b5"
      },
      "execution_count": 1,
      "outputs": [
        {
          "output_type": "stream",
          "name": "stdout",
          "text": [
            "Por favor, introduce la longitud del rectangulo: 9\n",
            "Por favor, introduce el ancho del rectangulo: 8\n",
            "LEl area del rectangulo es 72\n"
          ]
        }
      ]
    },
    {
      "cell_type": "markdown",
      "source": [
        "#Ejercicio 4:"
      ],
      "metadata": {
        "id": "bttq0JL2DDBP"
      }
    },
    {
      "cell_type": "markdown",
      "source": [
        "**Multiplicar Dos Números**\n",
        "\n",
        "Algoritmo:\n",
        "\n",
        "* Obtener dos números del usuario.\n",
        "* Multiplicar los dos números.\n",
        "* Mostrar el resultado de la multiplicación.\n"
      ],
      "metadata": {
        "id": "CJE_FRnaGSuL"
      }
    },
    {
      "cell_type": "markdown",
      "source": [
        "**Pseudo-código:**"
      ],
      "metadata": {
        "id": "nenh1ng2GaJJ"
      }
    },
    {
      "cell_type": "code",
      "source": [
        "\"\"\"\n",
        "Inicio\n",
        "    Leer primerNumero\n",
        "    Leer segundoNumero\n",
        "    resultado = primerNumero * segundoNumero\n",
        "    Escribir resultado\n",
        "Fin\n",
        "\"\"\""
      ],
      "metadata": {
        "id": "4NcqRU8HGaJK"
      },
      "execution_count": null,
      "outputs": []
    },
    {
      "cell_type": "markdown",
      "source": [
        "**Código:**"
      ],
      "metadata": {
        "id": "6QdwbyWGGaJK"
      }
    },
    {
      "cell_type": "code",
      "source": [
        "#Asignar un valor a un objeto\n",
        "\n",
        "PriNum = input(\"Por favor, introduce el primer numero a multiplicar: \")\n",
        "SegNum = input(\"Por favor, introduce el segundo numero a multiplicar \")\n",
        "\n",
        "#Casteo y suma de los dos numeros\n",
        "Mul = int(PriNum) * int(SegNum)\n",
        "\n",
        "print(\"La multiplicacion de los numeros es \" + str(Mul))\n"
      ],
      "metadata": {
        "id": "jqOfKNIsGaJL",
        "colab": {
          "base_uri": "https://localhost:8080/"
        },
        "outputId": "ec162f3d-3fd4-40f2-bc78-0615749fa3c8"
      },
      "execution_count": 2,
      "outputs": [
        {
          "output_type": "stream",
          "name": "stdout",
          "text": [
            "Por favor, introduce el primer numero a multiplicar: 8\n",
            "Por favor, introduce el segundo numero a multiplicar 5\n",
            "La suma de los numeros es 40\n"
          ]
        }
      ]
    },
    {
      "cell_type": "markdown",
      "source": [
        "#Ejercicio 5:"
      ],
      "metadata": {
        "id": "kYm5_430DEO4"
      }
    },
    {
      "cell_type": "markdown",
      "source": [
        "**Calcular el Perímetro de un Cuadrado**"
      ],
      "metadata": {
        "id": "qyF9Ig_6GhFJ"
      }
    },
    {
      "cell_type": "markdown",
      "source": [
        "Algoritmo:\n",
        "\n",
        "* Obtener la longitud de un lado del cuadrado.\n",
        "* Calcular el perímetro multiplicando la longitud del lado por cuatro.\n",
        "* Mostrar el perímetro."
      ],
      "metadata": {
        "id": "fJ02vCBIG5Ay"
      }
    },
    {
      "cell_type": "markdown",
      "source": [
        "**Pseudo-código:**"
      ],
      "metadata": {
        "id": "vYmE9dKfHFko"
      }
    },
    {
      "cell_type": "code",
      "source": [
        "\"\"\"\n",
        "Inicio\n",
        "    Obtener la longitud\n",
        "    realizar la formula del perimetro\n",
        "    Escribir resultado\n",
        "Fin\n",
        "\"\"\""
      ],
      "metadata": {
        "id": "uDLjzvLUHFkp"
      },
      "execution_count": null,
      "outputs": []
    },
    {
      "cell_type": "markdown",
      "source": [
        "**Código:**"
      ],
      "metadata": {
        "id": "Ojf15UuuHFkp"
      }
    },
    {
      "cell_type": "code",
      "source": [
        "#Asignar un valor a un objeto\n",
        "\n",
        "Longc = int(input(\"Por favor, introduce la longitud del cuadrado: \"))\n",
        "\n",
        "#Casteo y suma de los dos numeros\n",
        "Peri = Longc * 4\n",
        "\n",
        "print(\"El perimetro del cuadrado es \" + str(Peri))"
      ],
      "metadata": {
        "id": "G_vWP_O8HFkq",
        "colab": {
          "base_uri": "https://localhost:8080/"
        },
        "outputId": "c785e5d0-fc96-48f2-a24f-8fce3779e853"
      },
      "execution_count": 27,
      "outputs": [
        {
          "output_type": "stream",
          "name": "stdout",
          "text": [
            "Por favor, introduce la longitud del cuadrado: 5\n",
            "El perimetro del cuadrado es 20\n"
          ]
        }
      ]
    },
    {
      "cell_type": "markdown",
      "source": [
        "#Ejercicio 6:"
      ],
      "metadata": {
        "id": "IbseiCbIDFn0"
      }
    },
    {
      "cell_type": "markdown",
      "source": [
        "**Dividir Dos Números**\n",
        "\n",
        "Algoritmo:\n",
        "\n",
        "* Obtener dos números, donde el segundo no debe ser cero.\n",
        "* Dividir el primer número por el segundo.\n",
        "* Mostrar el resultado de la división."
      ],
      "metadata": {
        "id": "2hmcZ5tUHiZ5"
      }
    },
    {
      "cell_type": "markdown",
      "source": [
        "**Pseudo-código:**"
      ],
      "metadata": {
        "id": "sZIfUucIHrL6"
      }
    },
    {
      "cell_type": "code",
      "source": [
        "\"\"\"\n",
        "Inicio\n",
        "    Leer primerNumero\n",
        "    Leer segundoNumero\n",
        "    Validar que el segundo numero no debe ser cero\n",
        "    realizar la divicion de primer numero y segundo numero\n",
        "    Escribir resultado\n",
        "Fin\n",
        "\"\"\""
      ],
      "metadata": {
        "id": "iTjqtjxiHrL7"
      },
      "execution_count": null,
      "outputs": []
    },
    {
      "cell_type": "markdown",
      "source": [
        "**Código:**"
      ],
      "metadata": {
        "id": "6_NZCiOyHrL7"
      }
    },
    {
      "cell_type": "code",
      "source": [
        "#Asignar un valor a un objeto\n",
        "\n",
        "PriNum = int(input(\"Por favor, introduce el primer numero a dividir: \"))\n",
        "SegNum = int(input(\"Por favor, introduce el segundo numero a dividir \"))\n",
        "\n",
        "#Validacion de cero\n",
        "\n",
        "if SegNum == 0:\n",
        "  print(\"No se puede realizar la division con el segundo valor en 0 \")\n",
        "else:\n",
        "#Casteo  suma de los dos numeros\n",
        "  Div = PriNum / SegNum\n",
        "  print(\"La divicion de los numeros es \" + str(Div))\n",
        "\n",
        "\n"
      ],
      "metadata": {
        "id": "KjzD3HZOHrL7",
        "colab": {
          "base_uri": "https://localhost:8080/"
        },
        "outputId": "65175ccd-33b5-42cc-c68f-cde48ec39625"
      },
      "execution_count": 26,
      "outputs": [
        {
          "output_type": "stream",
          "name": "stdout",
          "text": [
            "Por favor, introduce el primer numero a dividir: 15\n",
            "Por favor, introduce el segundo numero a dividir 854\n",
            "La divicion de los numeros es 0.01756440281030445\n"
          ]
        }
      ]
    },
    {
      "cell_type": "markdown",
      "source": [
        "#Ejercicio 7:"
      ],
      "metadata": {
        "id": "Hz9aLTBYDGcF"
      }
    },
    {
      "cell_type": "markdown",
      "source": [
        "**Calcular el Área de un Triángulo**\n",
        "\n",
        "Algoritmo:\n",
        "\n",
        "* Obtener la base del triángulo.\n",
        "* Obtener la altura del triángulo.\n",
        "* Calcular el área usando la fórmula:\n",
        "\n",
        "<img src=\"https://definicionesyconceptos.com/wp-content/uploads/2021/06/Area-del-triangulo-%C2%BFcomo-calcular.jpg\" alt=\"HTML5 Icon\" width=\"300\" height=\"200\" >\n",
        "\n",
        "* Mostrar el área.\n"
      ],
      "metadata": {
        "id": "K8fhtBoqI1HW"
      }
    },
    {
      "cell_type": "markdown",
      "source": [
        "**Pseudo-código:**"
      ],
      "metadata": {
        "id": "3eQM2quhKl1L"
      }
    },
    {
      "cell_type": "code",
      "source": [],
      "metadata": {
        "id": "tXB8oUaxKl1M"
      },
      "execution_count": null,
      "outputs": []
    },
    {
      "cell_type": "markdown",
      "source": [
        "**Código:**"
      ],
      "metadata": {
        "id": "nNswfr4RKl1M"
      }
    },
    {
      "cell_type": "code",
      "source": [],
      "metadata": {
        "id": "V24IQeelKl1N"
      },
      "execution_count": null,
      "outputs": []
    },
    {
      "cell_type": "markdown",
      "source": [
        "#Ejercicio 8:"
      ],
      "metadata": {
        "id": "yoHWKi3QDHdW"
      }
    },
    {
      "cell_type": "markdown",
      "source": [
        "**Concatenar Dos Cadenas**\n",
        "\n",
        "Algoritmo:\n",
        "\n",
        "* Obtener dos cadenas de texto del usuario.\n",
        "* Concatenar las dos cadenas.\n",
        "* Mostrar la cadena resultante."
      ],
      "metadata": {
        "id": "PLF2oUmVKa2Y"
      }
    },
    {
      "cell_type": "markdown",
      "source": [
        "**Pseudo-código:**"
      ],
      "metadata": {
        "id": "W5C6p2dEKjwG"
      }
    },
    {
      "cell_type": "code",
      "source": [],
      "metadata": {
        "id": "Nm59ZR7lKjwH"
      },
      "execution_count": null,
      "outputs": []
    },
    {
      "cell_type": "markdown",
      "source": [
        "**Código:**"
      ],
      "metadata": {
        "id": "stYESX50KjwH"
      }
    },
    {
      "cell_type": "code",
      "source": [],
      "metadata": {
        "id": "X4f87galKjwH"
      },
      "execution_count": null,
      "outputs": []
    },
    {
      "cell_type": "markdown",
      "source": [
        "#Ejercicio 9:"
      ],
      "metadata": {
        "id": "JBVIn59GK9K2"
      }
    },
    {
      "cell_type": "markdown",
      "source": [
        "**Calculadora de Propinas**\n",
        "\n",
        "Algoritmo:\n",
        "\n",
        "* Obtener el monto total de la factura del usuario.\n",
        "* Preguntar al usuario el porcentaje de propina que desea dar.\n",
        "* Calcular el monto de la propina basado en el porcentaje.\n",
        "* Calcular el total general sumando la propina al monto original de la factura.\n",
        "* Mostrar el monto de la propina y el total a pagar."
      ],
      "metadata": {
        "id": "AAMXNVHQLEsn"
      }
    },
    {
      "cell_type": "markdown",
      "source": [
        "**Pseudo-código:**"
      ],
      "metadata": {
        "id": "8Je8ZEJwLV9B"
      }
    },
    {
      "cell_type": "code",
      "source": [],
      "metadata": {
        "id": "URyNV2uwLV9C"
      },
      "execution_count": null,
      "outputs": []
    },
    {
      "cell_type": "markdown",
      "source": [
        "**Código:**"
      ],
      "metadata": {
        "id": "N6ykGmAOLV9C"
      }
    },
    {
      "cell_type": "code",
      "source": [],
      "metadata": {
        "id": "hhzMUF6LLV9D"
      },
      "execution_count": null,
      "outputs": []
    },
    {
      "cell_type": "markdown",
      "source": [
        "#Ejercicio 10:"
      ],
      "metadata": {
        "id": "rvapOr1vK-T_"
      }
    },
    {
      "cell_type": "markdown",
      "source": [
        "\n",
        "**Generador de Contraseñas**\n",
        "\n",
        "Algoritmo:\n",
        "\n",
        "* Preguntar al usuario la longitud deseada para la contraseña.\n",
        "* Generar una contraseña aleatoria utilizando una combinación de letras mayúsculas, minúsculas, números y símbolos.\n",
        "* Mostrar la contraseña generada al usuario."
      ],
      "metadata": {
        "id": "vg-6eSCvLTnx"
      }
    },
    {
      "cell_type": "markdown",
      "source": [
        "**Pseudo-código:**"
      ],
      "metadata": {
        "id": "YgBxkKISLYPv"
      }
    },
    {
      "cell_type": "code",
      "source": [],
      "metadata": {
        "id": "QhFNxAX9LYPw"
      },
      "execution_count": null,
      "outputs": []
    },
    {
      "cell_type": "markdown",
      "source": [
        "**Código:**"
      ],
      "metadata": {
        "id": "lgoZ0gUOLYPw"
      }
    },
    {
      "cell_type": "code",
      "source": [],
      "metadata": {
        "id": "-LJk0UNCLYPw"
      },
      "execution_count": null,
      "outputs": []
    },
    {
      "cell_type": "markdown",
      "source": [
        "#Ejercicio 11:"
      ],
      "metadata": {
        "id": "39GxEHMDK_nA"
      }
    },
    {
      "cell_type": "markdown",
      "source": [
        "**Calculadora de Edad de Mascotas en Años Humanos**\n",
        "\n",
        "Algoritmo:\n",
        "\n",
        "* Preguntar al usuario el tipo de mascota (perro o gato).\n",
        "* Obtener la edad de la mascota en años.\n",
        "* Calcular la edad equivalente en años humanos usando un factor * multiplicativo (se asume 7 para perros y 6 para gatos).\n",
        "*  Mostrar la edad de la mascota en años humanos."
      ],
      "metadata": {
        "id": "1owrR9ITLEEv"
      }
    },
    {
      "cell_type": "markdown",
      "source": [
        "**Pseudo-código:**"
      ],
      "metadata": {
        "id": "lTbjQwFCLZ5J"
      }
    },
    {
      "cell_type": "code",
      "source": [],
      "metadata": {
        "id": "-9B3G-VPLZ5U"
      },
      "execution_count": null,
      "outputs": []
    },
    {
      "cell_type": "markdown",
      "source": [
        "**Código:**"
      ],
      "metadata": {
        "id": "xVeRXs58LZ5V"
      }
    },
    {
      "cell_type": "code",
      "source": [],
      "metadata": {
        "id": "1FPU9uG2LZ5V"
      },
      "execution_count": null,
      "outputs": []
    },
    {
      "cell_type": "markdown",
      "source": [
        "#Ejercicio 12:"
      ],
      "metadata": {
        "id": "DAGbYDAAP_1t"
      }
    },
    {
      "cell_type": "markdown",
      "source": [
        "**Calculadora de Interés Compuesto**\n",
        "\n",
        "Algoritmo:\n",
        "\n",
        "* Preguntar al usuario el monto inicial de la inversión.\n",
        "* Preguntar la tasa de interés anual (en porcentaje).\n",
        "* Preguntar el número de años que la inversión será mantenida.\n",
        "* Calcular el monto final usando la fórmula de interés compuesto.\n",
        "* Mostrar el monto final después de los años especificados.\n"
      ],
      "metadata": {
        "id": "zbHGgy8lQED9"
      }
    },
    {
      "cell_type": "markdown",
      "source": [
        "**Pseudo-código:**"
      ],
      "metadata": {
        "id": "S_8pekqFQSwO"
      }
    },
    {
      "cell_type": "code",
      "source": [],
      "metadata": {
        "id": "2rpduVNpQSwO"
      },
      "execution_count": null,
      "outputs": []
    },
    {
      "cell_type": "markdown",
      "source": [
        "**Código:**"
      ],
      "metadata": {
        "id": "ccOFTCawQSwP"
      }
    },
    {
      "cell_type": "code",
      "source": [],
      "metadata": {
        "id": "HlizzaY2QSwP"
      },
      "execution_count": null,
      "outputs": []
    },
    {
      "cell_type": "markdown",
      "source": [
        "# Ejercicio 13:"
      ],
      "metadata": {
        "id": "ZZDR1mBbQURN"
      }
    },
    {
      "cell_type": "markdown",
      "source": [
        "**Calculadora de Calorías**\n",
        "\n",
        "Algoritmo:\n",
        "\n",
        "* Preguntar al usuario su peso en kilogramos.\n",
        "* Preguntar la duración de la actividad física en minutos.\n",
        "* Asignar un valor fijo de calorías quemadas por minuto según un promedio (ej. 8 calorías/minuto).\n",
        "* Calcular el total de calorías quemadas.\n",
        "* Mostrar las calorías totales quemadas.\n"
      ],
      "metadata": {
        "id": "xbvh-5XmQWcC"
      }
    },
    {
      "cell_type": "markdown",
      "source": [
        "**Pseudo-código:**"
      ],
      "metadata": {
        "id": "J4884mQ-Qs3W"
      }
    },
    {
      "cell_type": "code",
      "source": [],
      "metadata": {
        "id": "fVTGcp18Qs3X"
      },
      "execution_count": null,
      "outputs": []
    },
    {
      "cell_type": "markdown",
      "source": [
        "**Código:**"
      ],
      "metadata": {
        "id": "JQMMrXvZQs3X"
      }
    },
    {
      "cell_type": "code",
      "source": [],
      "metadata": {
        "id": "k_fVDjUMQs3X"
      },
      "execution_count": null,
      "outputs": []
    },
    {
      "cell_type": "markdown",
      "source": [
        "---\n",
        "\n",
        "# Gracias por completar este laboratorio!\n",
        "\n",
        "---\n"
      ],
      "metadata": {
        "id": "qfNCVQ28DOIT"
      }
    }
  ]
}